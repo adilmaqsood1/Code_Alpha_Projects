{
 "cells": [
  {
   "cell_type": "markdown",
   "id": "44c10fb9",
   "metadata": {},
   "source": [
    "# CodeAlpha Internship"
   ]
  },
  {
   "cell_type": "markdown",
   "id": "c58a315c",
   "metadata": {},
   "source": [
    "* task-2 (Basic Chatbot)"
   ]
  },
  {
   "cell_type": "code",
   "execution_count": null,
   "id": "d0429363",
   "metadata": {},
   "outputs": [],
   "source": [
    "import streamlit as st\n",
    "from nltk.chat.util import Chat\n",
    "\n",
    "class SimpleChatBot:\n",
    "    def __init__(self, patterns):\n",
    "        self.chatbot = Chat(patterns)\n",
    "\n",
    "    def respond(self, user_input):\n",
    "        return self.chatbot.respond(user_input)\n",
    "\n",
    "def main():\n",
    "    st.title(\"ChatBot with Streamlit\")\n",
    "\n",
    "    patterns = [\n",
    "        (r'hi|hello|hey', ['Hi there!', 'Hello!', 'Hey!']),\n",
    "        (r'how are you', ['I am good, thank you.', 'I\\'m doing well, how about you?']),\n",
    "        (r'what is your name', ['I am a chatbot.', 'You can call me ChatGPT.']),\n",
    "        (r'quit|exit|bye', ['Goodbye!', 'It was nice talking to you.']),\n",
    "    ]\n",
    "\n",
    "    chatbot = SimpleChatBot(patterns)\n",
    "\n",
    "    user_input = st.text_input(\"You:\")\n",
    "    if user_input:\n",
    "        response = chatbot.respond(user_input)\n",
    "        st.text_area(\"ChatBot:\", value=response, height=100)\n",
    "\n",
    "if __name__ == \"__main__\":\n",
    "    main()\n"
   ]
  },
  {
   "cell_type": "code",
   "execution_count": null,
   "id": "78bf7638",
   "metadata": {},
   "outputs": [],
   "source": []
  }
 ],
 "metadata": {
  "kernelspec": {
   "display_name": "Python 3 (ipykernel)",
   "language": "python",
   "name": "python3"
  },
  "language_info": {
   "codemirror_mode": {
    "name": "ipython",
    "version": 3
   },
   "file_extension": ".py",
   "mimetype": "text/x-python",
   "name": "python",
   "nbconvert_exporter": "python",
   "pygments_lexer": "ipython3",
   "version": "3.9.13"
  }
 },
 "nbformat": 4,
 "nbformat_minor": 5
}
