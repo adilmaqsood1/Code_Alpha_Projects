{
 "cells": [
  {
   "cell_type": "markdown",
   "id": "85c89ddd",
   "metadata": {},
   "source": [
    "# CodeAlpha Internship"
   ]
  },
  {
   "cell_type": "code",
   "execution_count": null,
   "id": "2777887d",
   "metadata": {},
   "outputs": [],
   "source": [
    "*task-2 ()"
   ]
  },
  {
   "cell_type": "code",
   "execution_count": null,
   "id": "b2fe41f8",
   "metadata": {},
   "outputs": [],
   "source": []
  },
  {
   "cell_type": "code",
   "execution_count": null,
   "id": "7e73724f",
   "metadata": {},
   "outputs": [],
   "source": []
  },
  {
   "cell_type": "code",
   "execution_count": null,
   "id": "f5266c72",
   "metadata": {},
   "outputs": [
    {
     "name": "stdout",
     "output_type": "stream",
     "text": [
      "Welcome to the ChatBot. Type 'quit' to exit.\n",
      "You: HELLO\n",
      "ChatBot: Hello!\n"
     ]
    }
   ],
   "source": [
    "import nltk\n",
    "from nltk.chat.util import Chat, reflections\n",
    "\n",
    "# Define patterns for the chatbot to recognize\n",
    "patterns = [\n",
    "    (r'hi|hello|hey', ['Hi there!', 'Hello!', 'Hey!']),\n",
    "    (r'how are you', ['I am good, thank you.', 'I\\'m doing well, how about you?']),\n",
    "    (r'what is your name', ['I am a chatbot.', 'You can call me ChatGPT.']),\n",
    "    (r'quit|exit|bye', ['Goodbye!', 'It was nice talking to you.']),\n",
    "]\n",
    "\n",
    "# Create a chatbot using the defined patterns\n",
    "chatbot = Chat(patterns, reflections)\n",
    "\n",
    "# Function to start the chat\n",
    "def start_chat():\n",
    "    print(\"Welcome to the ChatBot. Type 'quit' to exit.\")\n",
    "    while True:\n",
    "        user_input = input(\"You: \")\n",
    "        if user_input.lower() in ['quit', 'exit', 'bye']:\n",
    "            print(\"ChatBot: Goodbye!\")\n",
    "            break\n",
    "        else:\n",
    "            response = chatbot.respond(user_input)\n",
    "            print(\"ChatBot:\", response)\n",
    "\n",
    "# Start the chat\n",
    "start_chat()\n"
   ]
  },
  {
   "cell_type": "code",
   "execution_count": null,
   "id": "ceee5ea8",
   "metadata": {},
   "outputs": [],
   "source": []
  }
 ],
 "metadata": {
  "kernelspec": {
   "display_name": "Python 3 (ipykernel)",
   "language": "python",
   "name": "python3"
  },
  "language_info": {
   "codemirror_mode": {
    "name": "ipython",
    "version": 3
   },
   "file_extension": ".py",
   "mimetype": "text/x-python",
   "name": "python",
   "nbconvert_exporter": "python",
   "pygments_lexer": "ipython3",
   "version": "3.9.13"
  }
 },
 "nbformat": 4,
 "nbformat_minor": 5
}
